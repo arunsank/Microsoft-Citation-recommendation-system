{
 "cells": [
  {
   "cell_type": "markdown",
   "metadata": {},
   "source": [
    "# Evaluation for Recommendation Engines with prior citations"
   ]
  },
  {
   "cell_type": "markdown",
   "metadata": {},
   "source": [
    "Authors: Ganesh Nagarajan, Siddarth Jaysankar, Arun and Nishant"
   ]
  },
  {
   "cell_type": "markdown",
   "metadata": {},
   "source": [
    "Import libraries to hold the data. The Test data and the predicted data is loaded as dataframes. For each test entry, both test and output data frames are filtered and the results are checked."
   ]
  },
  {
   "cell_type": "code",
   "execution_count": 1,
   "metadata": {
    "collapsed": false
   },
   "outputs": [],
   "source": [
    "import numpy as np\n",
    "import pandas as pd\n",
    "from collections import defaultdict"
   ]
  },
  {
   "cell_type": "code",
   "execution_count": 2,
   "metadata": {
    "collapsed": false
   },
   "outputs": [],
   "source": [
    "groundtruth='/home/ganesh/Desktop/graph_test_original.csv'\n",
    "testfile='/home/ganesh/Desktop/graph_test.csv'\n",
    "outputfile='/home/ganesh/Desktop/output.csv'"
   ]
  },
  {
   "cell_type": "code",
   "execution_count": 3,
   "metadata": {
    "collapsed": false
   },
   "outputs": [],
   "source": [
    "tdf=pd.read_csv(testfile,names=['X'+str(item) for item in range(1,12)],index_col=False,encoding='iso8859_15')\n",
    "tdf=tdf[['X5','X10']]"
   ]
  },
  {
   "cell_type": "code",
   "execution_count": 4,
   "metadata": {
    "collapsed": false
   },
   "outputs": [],
   "source": [
    "gtdf=pd.read_csv(groundtruth,names=['X'+str(item) for item in range(1,12)],index_col=False,encoding='iso8859_15')\n",
    "gtdf=gtdf[['X5','X10']]\n"
   ]
  },
  {
   "cell_type": "code",
   "execution_count": 5,
   "metadata": {
    "collapsed": false
   },
   "outputs": [],
   "source": [
    "output=defaultdict(str)"
   ]
  },
  {
   "cell_type": "code",
   "execution_count": 6,
   "metadata": {
    "collapsed": false
   },
   "outputs": [],
   "source": [
    "opdf=pd.read_csv(outputfile,names=['X'+str(item) for item in range(1,3)],sep=':',index_col=False)\n",
    "opdf=opdf[['X1','X2']]"
   ]
  },
  {
   "cell_type": "markdown",
   "metadata": {},
   "source": [
    "The block below checks for the accuracy and recall. Since part of the predicted output is given to the algorithm, we have to remove the previously given context. Eg, a paper cites 10 papers, the input would be the paper id and any 2 citations that this paper has made. So for evaluation, we remove the 2 citation that was given as input and compare 8 predicted citations with 8 actual cited papers to calulate accuracy."
   ]
  },
  {
   "cell_type": "code",
   "execution_count": 7,
   "metadata": {
    "collapsed": false
   },
   "outputs": [],
   "source": [
    "for i in set(opdf['X1']):\n",
    "    subsetgt=set(gtdf[gtdf['X5']==i]['X10']).difference(set(tdf[tdf['X5']==i]['X10']))\n",
    "    subsetop=set(opdf[opdf['X1']==i]['X2']).difference(set(tdf[tdf['X5']==i]['X10']))\n",
    "    try:\n",
    "        precision=len(subsetgt.intersection(subsetop))/len(subsetop)\n",
    "        recall=len(subsetgt.intersection(subsetop))/len(subsetgt)\n",
    "        output[i]={'precision':precision,'recall':recall}\n",
    "    except:\n",
    "        pass"
   ]
  },
  {
   "cell_type": "markdown",
   "metadata": {},
   "source": [
    "Print the results."
   ]
  },
  {
   "cell_type": "code",
   "execution_count": 8,
   "metadata": {
    "collapsed": false
   },
   "outputs": [
    {
     "name": "stdout",
     "output_type": "stream",
     "text": [
      "Precision 0.031095473246612614\n",
      "Recall 0.1743951975235588\n"
     ]
    }
   ],
   "source": [
    "    l=[output[i]['precision'] for i in output.keys()]\n",
    "print('Precision',sum(l)/len(l))\n",
    "l=[output[i]['recall'] for i in output.keys()]\n",
    "print('Recall',sum(l)/len(l))"
   ]
  }
 ],
 "metadata": {
  "kernelspec": {
   "display_name": "Python 3",
   "language": "python",
   "name": "python3"
  },
  "language_info": {
   "codemirror_mode": {
    "name": "ipython",
    "version": 3
   },
   "file_extension": ".py",
   "mimetype": "text/x-python",
   "name": "python",
   "nbconvert_exporter": "python",
   "pygments_lexer": "ipython3",
   "version": "3.5.1"
  }
 },
 "nbformat": 4,
 "nbformat_minor": 0
}
