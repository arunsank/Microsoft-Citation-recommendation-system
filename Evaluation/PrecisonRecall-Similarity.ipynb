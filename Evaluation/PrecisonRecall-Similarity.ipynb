{
 "cells": [
  {
   "cell_type": "markdown",
   "metadata": {},
   "source": [
    "# Evaluation for Recommendation Engines with Similarity Inputs"
   ]
  },
  {
   "cell_type": "markdown",
   "metadata": {},
   "source": [
    "Authors: Ganesh Nagarajan, Siddarth Jaysankar and Arun"
   ]
  },
  {
   "cell_type": "markdown",
   "metadata": {},
   "source": [
    "Import libraries to hold the data. The Test data and the predicted data is loaded as dataframes. For each test entry, both test and output data frames are filtered and the results are checke"
   ]
  },
  {
   "cell_type": "code",
   "execution_count": 25,
   "metadata": {
    "collapsed": false
   },
   "outputs": [],
   "source": [
    "import numpy as np\n",
    "import pandas as pd\n",
    "from collections import defaultdict"
   ]
  },
  {
   "cell_type": "markdown",
   "metadata": {},
   "source": [
    "File Location for train csv, test csv and output of the recommender system."
   ]
  },
  {
   "cell_type": "code",
   "execution_count": 26,
   "metadata": {
    "collapsed": false
   },
   "outputs": [],
   "source": [
    "groundtruth='/home/ganesh/Desktop/graph_train.csv'\n",
    "testfile='/home/ganesh/Desktop/graph_test.csv'\n",
    "outputfile='/home/ganesh/Desktop/output.csv'"
   ]
  },
  {
   "cell_type": "code",
   "execution_count": 27,
   "metadata": {
    "collapsed": false
   },
   "outputs": [],
   "source": [
    "tdf=pd.read_csv(groundtruth,names=['X'+str(item) for item in range(1,12)],index_col=False,encoding='iso8859_15')\n",
    "tdf=tdf[['X5','X10']]"
   ]
  },
  {
   "cell_type": "code",
   "execution_count": 28,
   "metadata": {
    "collapsed": false
   },
   "outputs": [],
   "source": [
    "#gtdf=pd.read_csv(groundtruth,names=['X'+str(item) for item in range(1,12)],index_col=False,encoding='iso8859_15')\n",
    "#gtdf=gtdf[['X5','X10']]\n"
   ]
  },
  {
   "cell_type": "code",
   "execution_count": 29,
   "metadata": {
    "collapsed": false
   },
   "outputs": [],
   "source": [
    "output=defaultdict(str)"
   ]
  },
  {
   "cell_type": "code",
   "execution_count": 30,
   "metadata": {
    "collapsed": false
   },
   "outputs": [],
   "source": [
    "opdf=pd.read_csv(outputfile,names=['X'+str(item) for item in range(1,4)],sep=':',index_col=False)\n",
    "opdf=opdf[['X1','X3']]"
   ]
  },
  {
   "cell_type": "markdown",
   "metadata": {},
   "source": [
    "This evaluation method uses the similary file. Similary file has structure [Citing Paper ID: Similar file 1 ID, Similary file 2 ID...] etc. \n",
    "The Recommendation API Outputs a data format like Prediction For:Similar Id:Predicted Id:Predicted Score. \n",
    "Here, we would like to check prediction for vs Predicted ID."
   ]
  },
  {
   "cell_type": "code",
   "execution_count": 31,
   "metadata": {
    "collapsed": false
   },
   "outputs": [],
   "source": [
    "for i in set(opdf['X1']):\n",
    "    subsetgt=list(tdf[tdf['X5']==i]['X10'])\n",
    "    subsetop=list(opdf[opdf['X1']==i]['X3'])\n",
    "    try:\n",
    "        a=[i for i in subsetgt if i in subsetop]\n",
    "        precision=len(a)/len(subsetop)\n",
    "        recall=len(a)/len(subsetgt)\n",
    "        output[i]={'precision':precision,'recall':recall}\n",
    "    except:\n",
    "        pass"
   ]
  },
  {
   "cell_type": "markdown",
   "metadata": {},
   "source": [
    "Print Precision and Recall"
   ]
  },
  {
   "cell_type": "code",
   "execution_count": 32,
   "metadata": {
    "collapsed": false
   },
   "outputs": [
    {
     "name": "stdout",
     "output_type": "stream",
     "text": [
      "Precision 0.02815726767275625\n",
      "Recall 0.16650916117579673\n"
     ]
    }
   ],
   "source": [
    "l=[output[i]['precision'] for i in output.keys()]\n",
    "print('Precision',sum(l)/len(l))\n",
    "l=[output[i]['recall'] for i in output.keys()]\n",
    "print('Recall',sum(l)/len(l))"
   ]
  }
 ],
 "metadata": {
  "kernelspec": {
   "display_name": "Python 3",
   "language": "python",
   "name": "python3"
  },
  "language_info": {
   "codemirror_mode": {
    "name": "ipython",
    "version": 3
   },
   "file_extension": ".py",
   "mimetype": "text/x-python",
   "name": "python",
   "nbconvert_exporter": "python",
   "pygments_lexer": "ipython3",
   "version": "3.5.1"
  }
 },
 "nbformat": 4,
 "nbformat_minor": 0
}
