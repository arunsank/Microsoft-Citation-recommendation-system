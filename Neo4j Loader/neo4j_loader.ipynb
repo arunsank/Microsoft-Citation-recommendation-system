{
 "cells": [
  {
   "cell_type": "markdown",
   "metadata": {},
   "source": [
    "# Graph Loader for Neo4j"
   ]
  },
  {
   "cell_type": "markdown",
   "metadata": {},
   "source": [
    "Authors: Ganesh Nagarajan and Siddarth Jayshankar"
   ]
  },
  {
   "cell_type": "markdown",
   "metadata": {},
   "source": [
    "This script reads the file subsetted from the hive and loads the Ne04j graph database. Every Paper is considered as a node and the relationship CITED_BY is created between these two nodes."
   ]
  },
  {
   "cell_type": "markdown",
   "metadata": {},
   "source": [
    "### Columns Metadata"
   ]
  },
  {
   "cell_type": "code",
   "execution_count": 1,
   "metadata": {
    "collapsed": true
   },
   "outputs": [],
   "source": [
    "columns=['cited_id1','citing_f_name','citing_key_name','citing_auth_name','citing_id','citing_norm_title','cited_f_name','cited_key_name','cited_auth_name','cited_id','cited_norm_title']"
   ]
  },
  {
   "cell_type": "markdown",
   "metadata": {},
   "source": [
    "## Imports"
   ]
  },
  {
   "cell_type": "code",
   "execution_count": 2,
   "metadata": {
    "collapsed": true
   },
   "outputs": [],
   "source": [
    "from neo4jrestclient.client import GraphDatabase\n",
    "import json"
   ]
  },
  {
   "cell_type": "markdown",
   "metadata": {},
   "source": [
    "Function Check node checks if there is already a node in the graph database with the given query id and returns true or false. Create Node creates the new node in the graph database"
   ]
  },
  {
   "cell_type": "code",
   "execution_count": 21,
   "metadata": {
    "collapsed": false
   },
   "outputs": [],
   "source": [
    "def checknode(connection,node):\n",
    "    query='match(n {id:\"'+node+'\"}) return(n)'\n",
    "    result = connection.query(q=query)\n",
    "    if len(result)>0:\n",
    "        return True\n",
    "    else:\n",
    "        return False\n",
    "\n",
    "def createNode(connection,params):\n",
    "    query='create(n {'\n",
    "    for (k,v) in params.items():\n",
    "        query=query+k+':\"'+v+'\",'\n",
    "    query=query[:-1]+'})'\n",
    "    result = connection.query(q=query)"
   ]
  },
  {
   "cell_type": "code",
   "execution_count": 4,
   "metadata": {
    "collapsed": false
   },
   "outputs": [],
   "source": [
    "graphdata=[]"
   ]
  },
  {
   "cell_type": "markdown",
   "metadata": {},
   "source": [
    "Process the graph file list of lists"
   ]
  },
  {
   "cell_type": "code",
   "execution_count": 5,
   "metadata": {
    "collapsed": false
   },
   "outputs": [],
   "source": [
    "graph=open('graph.csv','r')\n",
    "for line in graph.readlines():\n",
    "    graphdata.append(dict(zip(columns,line.strip().split(\",\"))))"
   ]
  },
  {
   "cell_type": "markdown",
   "metadata": {},
   "source": [
    "Define Connection Parameters"
   ]
  },
  {
   "cell_type": "code",
   "execution_count": 6,
   "metadata": {
    "collapsed": false
   },
   "outputs": [],
   "source": [
    "gdb=GraphDatabase(\"http://localhost:7474/db/data/\",username=\"neo4j\",password=\"password\")"
   ]
  },
  {
   "cell_type": "markdown",
   "metadata": {},
   "source": [
    "For every relation in the csv, check if both the citing paper and the cited paper are present. If both are present, just create the relationship edge. Else create the missing nodes and create the relationship."
   ]
  },
  {
   "cell_type": "code",
   "execution_count": 25,
   "metadata": {
    "collapsed": false
   },
   "outputs": [],
   "source": [
    "for i in range(0,len(graphdata)-1):\n",
    "    data=graphdata[i]\n",
    "    checkfrom=checknode(gdb,data['citing_id'])\n",
    "    checkto=checknode(gdb,data['cited_id'])\n",
    "    if not checkfrom:\n",
    "        write={'id':data['citing_id'],'title':data['citing_norm_title'],'author':data['citing_auth_name'],\n",
    "               'field':data['citing_f_name'],'keyword':data['citing_key_name']}\n",
    "        createNode(gdb,write)\n",
    "    if not checkto:\n",
    "        write={'id':data['cited_id'],'title':data['cited_norm_title'],'author':data['cited_auth_name'],\n",
    "               'field':data['cited_f_name'],'keyword':data['cited_key_name']}\n",
    "        createNode(gdb,write)\n",
    "    query='MATCH (a),(b) WHERE a.id = \"'+data['citing_id']+'\" AND b.id = \"'+data['cited_id']+'\" CREATE (a)-[r:CITEDBY]->(b) RETURN r'\n",
    "    result = gdb.query(q=query)\n",
    "         "
   ]
  }
 ],
 "metadata": {
  "kernelspec": {
   "display_name": "Python 3",
   "language": "python",
   "name": "python3"
  },
  "language_info": {
   "codemirror_mode": {
    "name": "ipython",
    "version": 3
   },
   "file_extension": ".py",
   "mimetype": "text/x-python",
   "name": "python",
   "nbconvert_exporter": "python",
   "pygments_lexer": "ipython3",
   "version": "3.5.1"
  }
 },
 "nbformat": 4,
 "nbformat_minor": 0
}
